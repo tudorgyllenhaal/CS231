{
 "cells": [
  {
   "cell_type": "code",
   "execution_count": 1,
   "metadata": {},
   "outputs": [],
   "source": [
    "import tensorflow as tf\n",
    "import numpy as np\n",
    "from datetime import datetime\n"
   ]
  },
  {
   "cell_type": "code",
   "execution_count": 57,
   "metadata": {},
   "outputs": [],
   "source": [
    "class MNIST(object):\n",
    "    def __init__(self,batch_size,split=False,size=None,shuffle=False):\n",
    "        train,test=tf.keras.datasets.mnist.load_data()\n",
    "        X,y=train\n",
    "        self.N=X.shape[0]\n",
    "       \n",
    "        X=X.astype(np.float32)/255\n",
    "        X=X.reshape((*X.shape,1))\n",
    "        X=np.concatenate((X,X,X),axis=3)\n",
    "        \n",
    "        if split is True and size is not  None:\n",
    "            self.X_train=X[:self.N-size,:,:,:]\n",
    "            self.y_train=y[:self.N-size]\n",
    "            self.X_val=X[self.N-size:,:,:,:]\n",
    "            self.y_val=y[self.N-size:]\n",
    "        self.X_train,self.y_train=X,y\n",
    "        \n",
    "        self.batch_size,self.shuffle=batch_size,shuffle\n",
    "        \n",
    "    def __iter__(self):\n",
    "        N,B=self.X_train.shape[0],self.batch_size\n",
    "        idxs=np.array(N)\n",
    "        if self.shuffle:\n",
    "            np.random.shuffle(indxs)\n",
    "        return iter((self.X_train[i:i+B],self.y_train[i:i+B]) for i in range(0,N,B))\n",
    "    def get_val(self):\n",
    "        if 'X_val' in dir(self):\n",
    "            return self.X_val,self.y_val\n",
    "        else:\n",
    "            return None\n",
    "    def get_train(self):\n",
    "        return self.X_train,self.y_train"
   ]
  },
  {
   "cell_type": "code",
   "execution_count": 58,
   "metadata": {},
   "outputs": [],
   "source": [
    "class CNet(tf.keras.Model):\n",
    "    def __init__(self,input_shape,num_classes):\n",
    "        super(CNet,self).__init__()\n",
    "        self.num_classes=num_classes\n",
    "        self.net=tf.keras.models.Sequential([\n",
    "            tf.keras.layers.Conv2D(filters=16,kernel_size=(3,3),strides=(1,1),padding='valid',activation='relu'),\n",
    "            tf.keras.layers.Conv2D(filters=8,kernel_size=(3,3),strides=(1,1),padding='valid',activation='relu'),\n",
    "            tf.keras.layers.Flatten(),\n",
    "            tf.keras.layers.Dense(units=num_classes)])\n",
    "        \n",
    "    def call(self,x):\n",
    "        scores=self.net(x)\n",
    "        return scores"
   ]
  },
  {
   "cell_type": "code",
   "execution_count": 59,
   "metadata": {},
   "outputs": [],
   "source": [
    "log_dir=\"CNet:{}\".format(datetime.now())"
   ]
  },
  {
   "cell_type": "code",
   "execution_count": 63,
   "metadata": {},
   "outputs": [],
   "source": [
    "tensorboard=tf.keras.callbacks.TensorBoard(log_dir=log_dir,histogram_freq=5,\n",
    "                                          write_graph=False,write_images=True,\n",
    "                                          embeddings_freq=0)"
   ]
  },
  {
   "cell_type": "code",
   "execution_count": 64,
   "metadata": {},
   "outputs": [],
   "source": [
    "def train(model,datasets,learning_rate=1e-1,verbose=True):\n",
    "    optimizer=tf.keras.optimizers.(learning_rate=learning_rate)\n",
    "    accuracy=tf.keras.metrics.SparseCategoricalAccuracy()\n",
    "    loss=tf.keras.losses.SparseCategoricalCrossentropy(from_logits=True)\n",
    "    \n",
    "    net=model\n",
    "    net.compile(optimizer=optimizer, loss=loss,metrics=[accuracy])\n",
    "    X_train,y_train=datasets.get_train()\n",
    "    X_val,y_val=datasets.get_val()\n",
    "    \n",
    "    net.fit(x=X_train,y=y_train,batch_size=64,epochs=10,\n",
    "           callbacks=[tensorboard],validation_data=(X_val,y_val),validation_freq=2)\n",
    "    \n",
    "    "
   ]
  },
  {
   "cell_type": "code",
   "execution_count": 65,
   "metadata": {},
   "outputs": [
    {
     "name": "stdout",
     "output_type": "stream",
     "text": [
      "Train on 60000 samples, validate on 2000 samples\n",
      "Epoch 1/10\n",
      "60000/60000 [==============================] - 27s 455us/sample - loss: 0.9377 - sparse_categorical_accuracy: 0.7246\n",
      "Epoch 2/10\n",
      "60000/60000 [==============================] - 27s 458us/sample - loss: 0.4638 - sparse_categorical_accuracy: 0.8644 - val_loss: 0.2612 - val_sparse_categorical_accuracy: 0.9270\n",
      "Epoch 3/10\n",
      "60000/60000 [==============================] - 30s 497us/sample - loss: 0.4211 - sparse_categorical_accuracy: 0.8806\n",
      "Epoch 4/10\n",
      "60000/60000 [==============================] - 32s 530us/sample - loss: 0.4761 - sparse_categorical_accuracy: 0.8768 - val_loss: 0.2791 - val_sparse_categorical_accuracy: 0.9320\n",
      "Epoch 5/10\n",
      "60000/60000 [==============================] - 29s 488us/sample - loss: 0.3898 - sparse_categorical_accuracy: 0.8937\n",
      "Epoch 6/10\n",
      "60000/60000 [==============================] - 30s 508us/sample - loss: 0.3930 - sparse_categorical_accuracy: 0.8963 - val_loss: 0.2637 - val_sparse_categorical_accuracy: 0.9335\n",
      "Epoch 7/10\n",
      "60000/60000 [==============================] - 30s 502us/sample - loss: 0.4535 - sparse_categorical_accuracy: 0.8891\n",
      "Epoch 8/10\n",
      "60000/60000 [==============================] - 32s 531us/sample - loss: 0.4080 - sparse_categorical_accuracy: 0.8911 - val_loss: 0.7602 - val_sparse_categorical_accuracy: 0.8235\n",
      "Epoch 9/10\n",
      "60000/60000 [==============================] - 32s 528us/sample - loss: 2.2985 - sparse_categorical_accuracy: 0.1150\n",
      "Epoch 10/10\n",
      "60000/60000 [==============================] - 32s 536us/sample - loss: 2.3099 - sparse_categorical_accuracy: 0.1050 - val_loss: 2.3098 - val_sparse_categorical_accuracy: 0.0970rse_categorical_accu\n"
     ]
    }
   ],
   "source": [
    "datasets=MNIST(1024,split=True,size=2000)\n",
    "model=CNet(input_shape=(28,28,3),num_classes=10)\n",
    "train(model,datasets,learning_rate=1e-1)"
   ]
  },
  {
   "cell_type": "code",
   "execution_count": 68,
   "metadata": {},
   "outputs": [
    {
     "data": {
      "text/plain": [
       "'CNet:2019-09-26 00:42:55.114197'"
      ]
     },
     "execution_count": 68,
     "metadata": {},
     "output_type": "execute_result"
    }
   ],
   "source": [
    "log_dir"
   ]
  },
  {
   "cell_type": "code",
   "execution_count": null,
   "metadata": {},
   "outputs": [],
   "source": []
  },
  {
   "cell_type": "code",
   "execution_count": null,
   "metadata": {},
   "outputs": [],
   "source": []
  }
 ],
 "metadata": {
  "kernelspec": {
   "display_name": "Python 3",
   "language": "python",
   "name": "python3"
  },
  "language_info": {
   "codemirror_mode": {
    "name": "ipython",
    "version": 3
   },
   "file_extension": ".py",
   "mimetype": "text/x-python",
   "name": "python",
   "nbconvert_exporter": "python",
   "pygments_lexer": "ipython3",
   "version": "3.7.4"
  }
 },
 "nbformat": 4,
 "nbformat_minor": 2
}
