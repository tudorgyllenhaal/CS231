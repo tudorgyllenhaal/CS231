{
 "cells": [
  {
   "cell_type": "markdown",
   "metadata": {
    "tags": [
     "pdf-title"
    ]
   },
   "source": [
    "# Softmax exercise\n",
    "\n",
    "*Complete and hand in this completed worksheet (including its outputs and any supporting code outside of the worksheet) with your assignment submission. For more details see the [assignments page](http://vision.stanford.edu/teaching/cs231n/assignments.html) on the course website.*\n",
    "\n",
    "This exercise is analogous to the SVM exercise. You will:\n",
    "\n",
    "- implement a fully-vectorized **loss function** for the Softmax classifier\n",
    "- implement the fully-vectorized expression for its **analytic gradient**\n",
    "- **check your implementation** with numerical gradient\n",
    "- use a validation set to **tune the learning rate and regularization** strength\n",
    "- **optimize** the loss function with **SGD**\n",
    "- **visualize** the final learned weights\n"
   ]
  },
  {
   "cell_type": "code",
   "execution_count": 1,
   "metadata": {
    "tags": [
     "pdf-ignore"
    ]
   },
   "outputs": [],
   "source": [
    "import random\n",
    "import numpy as np\n",
    "from cs231n.data_utils import load_CIFAR10\n",
    "import matplotlib.pyplot as plt\n",
    "\n",
    "%matplotlib inline\n",
    "plt.rcParams['figure.figsize'] = (10.0, 8.0) # set default size of plots\n",
    "plt.rcParams['image.interpolation'] = 'nearest'\n",
    "plt.rcParams['image.cmap'] = 'gray'\n",
    "\n",
    "# for auto-reloading extenrnal modules\n",
    "# see http://stackoverflow.com/questions/1907993/autoreload-of-modules-in-ipython\n",
    "%load_ext autoreload\n",
    "%autoreload 2"
   ]
  },
  {
   "cell_type": "code",
   "execution_count": 2,
   "metadata": {
    "tags": [
     "pdf-ignore"
    ]
   },
   "outputs": [
    {
     "name": "stdout",
     "output_type": "stream",
     "text": [
      "Train data shape:  (49000, 3073)\n",
      "Train labels shape:  (49000,)\n",
      "Validation data shape:  (1000, 3073)\n",
      "Validation labels shape:  (1000,)\n",
      "Test data shape:  (1000, 3073)\n",
      "Test labels shape:  (1000,)\n",
      "dev data shape:  (500, 3073)\n",
      "dev labels shape:  (500,)\n"
     ]
    }
   ],
   "source": [
    "def get_CIFAR10_data(num_training=49000, num_validation=1000, num_test=1000, num_dev=500):\n",
    "    \"\"\"\n",
    "    Load the CIFAR-10 dataset from disk and perform preprocessing to prepare\n",
    "    it for the linear classifier. These are the same steps as we used for the\n",
    "    SVM, but condensed to a single function.  \n",
    "    \"\"\"\n",
    "    # Load the raw CIFAR-10 data\n",
    "    cifar10_dir = 'cs231n/datasets/cifar-10-batches-py'\n",
    "    \n",
    "    # Cleaning up variables to prevent loading data multiple times (which may cause memory issue)\n",
    "    try:\n",
    "       del X_train, y_train\n",
    "       del X_test, y_test\n",
    "       print('Clear previously loaded data.')\n",
    "    except:\n",
    "       pass\n",
    "\n",
    "    X_train, y_train, X_test, y_test = load_CIFAR10(cifar10_dir)\n",
    "    \n",
    "    # subsample the data\n",
    "    mask = list(range(num_training, num_training + num_validation))\n",
    "    X_val = X_train[mask]\n",
    "    y_val = y_train[mask]\n",
    "    mask = list(range(num_training))\n",
    "    X_train = X_train[mask]\n",
    "    y_train = y_train[mask]\n",
    "    mask = list(range(num_test))\n",
    "    X_test = X_test[mask]\n",
    "    y_test = y_test[mask]\n",
    "    mask = np.random.choice(num_training, num_dev, replace=False)\n",
    "    X_dev = X_train[mask]\n",
    "    y_dev = y_train[mask]\n",
    "    \n",
    "    # Preprocessing: reshape the image data into rows\n",
    "    X_train = np.reshape(X_train, (X_train.shape[0], -1))\n",
    "    X_val = np.reshape(X_val, (X_val.shape[0], -1))\n",
    "    X_test = np.reshape(X_test, (X_test.shape[0], -1))\n",
    "    X_dev = np.reshape(X_dev, (X_dev.shape[0], -1))\n",
    "    \n",
    "    # Normalize the data: subtract the mean image\n",
    "    mean_image = np.mean(X_train, axis = 0)\n",
    "    X_train -= mean_image\n",
    "    X_val -= mean_image\n",
    "    X_test -= mean_image\n",
    "    X_dev -= mean_image\n",
    "    \n",
    "    # add bias dimension and transform into columns\n",
    "    X_train = np.hstack([X_train, np.ones((X_train.shape[0], 1))])\n",
    "    X_val = np.hstack([X_val, np.ones((X_val.shape[0], 1))])\n",
    "    X_test = np.hstack([X_test, np.ones((X_test.shape[0], 1))])\n",
    "    X_dev = np.hstack([X_dev, np.ones((X_dev.shape[0], 1))])\n",
    "    \n",
    "    return X_train, y_train, X_val, y_val, X_test, y_test, X_dev, y_dev\n",
    "\n",
    "\n",
    "# Invoke the above function to get our data.\n",
    "X_train, y_train, X_val, y_val, X_test, y_test, X_dev, y_dev = get_CIFAR10_data()\n",
    "print('Train data shape: ', X_train.shape)\n",
    "print('Train labels shape: ', y_train.shape)\n",
    "print('Validation data shape: ', X_val.shape)\n",
    "print('Validation labels shape: ', y_val.shape)\n",
    "print('Test data shape: ', X_test.shape)\n",
    "print('Test labels shape: ', y_test.shape)\n",
    "print('dev data shape: ', X_dev.shape)\n",
    "print('dev labels shape: ', y_dev.shape)"
   ]
  },
  {
   "cell_type": "markdown",
   "metadata": {},
   "source": [
    "## Softmax Classifier\n",
    "\n",
    "Your code for this section will all be written inside **cs231n/classifiers/softmax.py**. \n"
   ]
  },
  {
   "cell_type": "code",
   "execution_count": 3,
   "metadata": {},
   "outputs": [
    {
     "name": "stdout",
     "output_type": "stream",
     "text": [
      "loss: 2.287488\n",
      "sanity check: 2.302585\n"
     ]
    }
   ],
   "source": [
    "# First implement the naive softmax loss function with nested loops.\n",
    "# Open the file cs231n/classifiers/softmax.py and implement the\n",
    "# softmax_loss_naive function.\n",
    "\n",
    "from cs231n.classifiers.softmax import softmax_loss_naive\n",
    "import time\n",
    "\n",
    "# Generate a random softmax weight matrix and use it to compute the loss.\n",
    "W = np.random.randn(3073, 10) * 0.0001\n",
    "loss, grad = softmax_loss_naive(W, X_dev, y_dev, 0.0)\n",
    "\n",
    "# As a rough sanity check, our loss should be something close to -log(0.1).\n",
    "print('loss: %f' % loss)\n",
    "print('sanity check: %f' % (-np.log(0.1)))"
   ]
  },
  {
   "cell_type": "markdown",
   "metadata": {
    "tags": [
     "pdf-inline"
    ]
   },
   "source": [
    "**Inline Question 1**\n",
    "\n",
    "Why do we expect our loss to be close to -log(0.1)? Explain briefly.**\n",
    "\n",
    "$\\color{blue}{\\textit Your Answer:}$ *Fill this in* \n",
    "\n"
   ]
  },
  {
   "cell_type": "code",
   "execution_count": 6,
   "metadata": {},
   "outputs": [
    {
     "name": "stdout",
     "output_type": "stream",
     "text": [
      "numerical: 1.962356 analytic: 1.962356, relative error: 6.078091e-08\n",
      "numerical: -0.749541 analytic: -0.749541, relative error: 8.387093e-08\n",
      "numerical: 1.782300 analytic: 1.782300, relative error: 3.926734e-08\n",
      "numerical: -3.241724 analytic: -3.241724, relative error: 1.341557e-08\n",
      "numerical: -1.732947 analytic: -1.732947, relative error: 9.396293e-09\n",
      "numerical: -1.421403 analytic: -1.421403, relative error: 2.448725e-08\n",
      "numerical: 0.029996 analytic: 0.029996, relative error: 1.863828e-06\n",
      "numerical: 0.547554 analytic: 0.547554, relative error: 1.484540e-09\n",
      "numerical: -1.342162 analytic: -1.342162, relative error: 8.541687e-09\n",
      "numerical: 1.522745 analytic: 1.522745, relative error: 2.885146e-08\n",
      "numerical: -2.528181 analytic: -2.528181, relative error: 1.986565e-09\n",
      "numerical: 0.154432 analytic: 0.154432, relative error: 9.174695e-09\n",
      "numerical: -3.564823 analytic: -3.564823, relative error: 8.146894e-09\n",
      "numerical: 1.061254 analytic: 1.061254, relative error: 8.530741e-08\n",
      "numerical: 0.723331 analytic: 0.723331, relative error: 1.996766e-09\n",
      "numerical: 2.607890 analytic: 2.607890, relative error: 3.517145e-09\n",
      "numerical: -1.485769 analytic: -1.485769, relative error: 2.832874e-08\n",
      "numerical: -0.402344 analytic: -0.402344, relative error: 6.399070e-08\n",
      "numerical: 1.877109 analytic: 1.877109, relative error: 6.212689e-08\n",
      "numerical: -1.293431 analytic: -1.293431, relative error: 6.731165e-08\n"
     ]
    }
   ],
   "source": [
    "# Complete the implementation of softmax_loss_naive and implement a (naive)\n",
    "# version of the gradient that uses nested loops.\n",
    "loss, grad = softmax_loss_naive(W, X_dev, y_dev, 0.0)\n",
    "\n",
    "# As we did for the SVM, use numeric gradient checking as a debugging tool.\n",
    "# The numeric gradient should be close to the analytic gradient.\n",
    "from cs231n.gradient_check import grad_check_sparse\n",
    "f = lambda w: softmax_loss_naive(w, X_dev, y_dev, 0.0)[0]\n",
    "grad_numerical = grad_check_sparse(f, W, grad, 10)\n",
    "\n",
    "# similar to SVM case, do another gradient check with regularization\n",
    "loss, grad = softmax_loss_naive(W, X_dev, y_dev, 5e1)\n",
    "f = lambda w: softmax_loss_naive(w, X_dev, y_dev, 5e1)[0]\n",
    "grad_numerical = grad_check_sparse(f, W, grad, 10)"
   ]
  },
  {
   "cell_type": "code",
   "execution_count": 9,
   "metadata": {},
   "outputs": [
    {
     "name": "stdout",
     "output_type": "stream",
     "text": [
      "naive loss: 2.287488e+00 computed in 0.110344s\n",
      "vectorized loss: 2.287488e+00 computed in 0.003550s\n",
      "Loss difference: 0.000000\n",
      "Gradient difference: 0.000000\n"
     ]
    }
   ],
   "source": [
    "# Now that we have a naive implementation of the softmax loss function and its gradient,\n",
    "# implement a vectorized version in softmax_loss_vectorized.\n",
    "# The two versions should compute the same results, but the vectorized version should be\n",
    "# much faster.\n",
    "tic = time.time()\n",
    "loss_naive, grad_naive = softmax_loss_naive(W, X_dev, y_dev, 0.000005)\n",
    "toc = time.time()\n",
    "print('naive loss: %e computed in %fs' % (loss_naive, toc - tic))\n",
    "\n",
    "from cs231n.classifiers.softmax import softmax_loss_vectorized\n",
    "tic = time.time()\n",
    "loss_vectorized, grad_vectorized = softmax_loss_vectorized(W, X_dev, y_dev, 0.000005)\n",
    "toc = time.time()\n",
    "print('vectorized loss: %e computed in %fs' % (loss_vectorized, toc - tic))\n",
    "\n",
    "# As we did for the SVM, we use the Frobenius norm to compare the two versions\n",
    "# of the gradient.\n",
    "grad_difference = np.linalg.norm(grad_naive - grad_vectorized, ord='fro')\n",
    "print('Loss difference: %f' % np.abs(loss_naive - loss_vectorized))\n",
    "print('Gradient difference: %f' % grad_difference)"
   ]
  },
  {
   "cell_type": "code",
   "execution_count": 13,
   "metadata": {
    "tags": [
     "code"
    ]
   },
   "outputs": [
    {
     "name": "stdout",
     "output_type": "stream",
     "text": [
      "iteration 0 / 1500: loss 36.603773\n",
      "iteration 100 / 1500: loss 33.676180\n",
      "iteration 200 / 1500: loss 31.721084\n",
      "iteration 300 / 1500: loss 30.391310\n",
      "iteration 400 / 1500: loss 28.988348\n",
      "iteration 500 / 1500: loss 27.896078\n",
      "iteration 600 / 1500: loss 26.623511\n",
      "iteration 700 / 1500: loss 25.673635\n",
      "iteration 800 / 1500: loss 24.646863\n",
      "iteration 900 / 1500: loss 23.625058\n",
      "iteration 1000 / 1500: loss 22.968206\n",
      "iteration 1100 / 1500: loss 21.716072\n",
      "iteration 1200 / 1500: loss 20.977810\n",
      "iteration 1300 / 1500: loss 20.236391\n",
      "iteration 1400 / 1500: loss 19.352885\n",
      "iteration 0 / 1500: loss 312.680887\n",
      "iteration 100 / 1500: loss 208.185883\n",
      "iteration 200 / 1500: loss 139.878567\n",
      "iteration 300 / 1500: loss 94.185182\n",
      "iteration 400 / 1500: loss 63.592294\n",
      "iteration 500 / 1500: loss 43.053274\n",
      "iteration 600 / 1500: loss 29.519739\n",
      "iteration 700 / 1500: loss 20.400801\n",
      "iteration 800 / 1500: loss 14.331531\n",
      "iteration 900 / 1500: loss 10.225887\n",
      "iteration 1000 / 1500: loss 7.563795\n",
      "iteration 1100 / 1500: loss 5.693673\n",
      "iteration 1200 / 1500: loss 4.468547\n",
      "iteration 1300 / 1500: loss 3.632744\n",
      "iteration 1400 / 1500: loss 3.146105\n",
      "iteration 0 / 1500: loss 777.975054\n",
      "iteration 100 / 1500: loss 285.217872\n",
      "iteration 200 / 1500: loss 105.743292\n",
      "iteration 300 / 1500: loss 39.937709\n",
      "iteration 400 / 1500: loss 15.980528\n",
      "iteration 500 / 1500: loss 7.135669\n",
      "iteration 600 / 1500: loss 3.928049\n",
      "iteration 700 / 1500: loss 2.769559\n",
      "iteration 800 / 1500: loss 2.378962\n",
      "iteration 900 / 1500: loss 2.121910\n",
      "iteration 1000 / 1500: loss 2.092729\n",
      "iteration 1100 / 1500: loss 2.103041\n",
      "iteration 1200 / 1500: loss 2.018782\n",
      "iteration 1300 / 1500: loss 2.092449\n",
      "iteration 1400 / 1500: loss 2.081290\n",
      "iteration 0 / 1500: loss 1535.083543\n",
      "iteration 100 / 1500: loss 206.836844\n",
      "iteration 200 / 1500: loss 29.537845\n",
      "iteration 300 / 1500: loss 5.814003\n",
      "iteration 400 / 1500: loss 2.694247\n",
      "iteration 500 / 1500: loss 2.227101\n",
      "iteration 600 / 1500: loss 2.131716\n",
      "iteration 700 / 1500: loss 2.170103\n",
      "iteration 800 / 1500: loss 2.154612\n",
      "iteration 900 / 1500: loss 2.186103\n",
      "iteration 1000 / 1500: loss 2.129794\n",
      "iteration 1100 / 1500: loss 2.114774\n",
      "iteration 1200 / 1500: loss 2.072440\n",
      "iteration 1300 / 1500: loss 2.154823\n",
      "iteration 1400 / 1500: loss 2.152875\n",
      "iteration 0 / 1500: loss 37.031926\n",
      "iteration 100 / 1500: loss 27.895800\n",
      "iteration 200 / 1500: loss 22.788417\n",
      "iteration 300 / 1500: loss 18.962991\n",
      "iteration 400 / 1500: loss 15.605374\n",
      "iteration 500 / 1500: loss 13.031465\n",
      "iteration 600 / 1500: loss 11.218095\n",
      "iteration 700 / 1500: loss 9.367627\n",
      "iteration 800 / 1500: loss 7.947524\n",
      "iteration 900 / 1500: loss 6.833791\n",
      "iteration 1000 / 1500: loss 5.958215\n",
      "iteration 1100 / 1500: loss 5.067046\n",
      "iteration 1200 / 1500: loss 4.532012\n",
      "iteration 1300 / 1500: loss 3.959376\n",
      "iteration 1400 / 1500: loss 3.633779\n",
      "iteration 0 / 1500: loss 312.348794\n",
      "iteration 100 / 1500: loss 42.871309\n",
      "iteration 200 / 1500: loss 7.433442\n",
      "iteration 300 / 1500: loss 2.692448\n",
      "iteration 400 / 1500: loss 2.090428\n",
      "iteration 500 / 1500: loss 2.072199\n",
      "iteration 600 / 1500: loss 1.947769\n",
      "iteration 700 / 1500: loss 1.993999\n",
      "iteration 800 / 1500: loss 2.083804\n",
      "iteration 900 / 1500: loss 1.952917\n",
      "iteration 1000 / 1500: loss 2.042827\n",
      "iteration 1100 / 1500: loss 1.989350\n",
      "iteration 1200 / 1500: loss 2.056824\n",
      "iteration 1300 / 1500: loss 2.103241\n",
      "iteration 1400 / 1500: loss 2.053623\n",
      "iteration 0 / 1500: loss 770.746389\n",
      "iteration 100 / 1500: loss 6.873997\n",
      "iteration 200 / 1500: loss 2.093257\n",
      "iteration 300 / 1500: loss 2.095394\n",
      "iteration 400 / 1500: loss 2.124524\n",
      "iteration 500 / 1500: loss 2.099286\n",
      "iteration 600 / 1500: loss 2.034973\n",
      "iteration 700 / 1500: loss 2.070195\n",
      "iteration 800 / 1500: loss 2.020988\n",
      "iteration 900 / 1500: loss 2.078304\n",
      "iteration 1000 / 1500: loss 2.061534\n",
      "iteration 1100 / 1500: loss 2.111785\n",
      "iteration 1200 / 1500: loss 2.045129\n",
      "iteration 1300 / 1500: loss 2.077752\n",
      "iteration 1400 / 1500: loss 2.100862\n",
      "iteration 0 / 1500: loss 1524.774334\n",
      "iteration 100 / 1500: loss 2.236840\n",
      "iteration 200 / 1500: loss 2.124585\n",
      "iteration 300 / 1500: loss 2.126190\n",
      "iteration 400 / 1500: loss 2.171761\n",
      "iteration 500 / 1500: loss 2.172431\n",
      "iteration 600 / 1500: loss 2.174379\n",
      "iteration 700 / 1500: loss 2.199472\n",
      "iteration 800 / 1500: loss 2.111700\n",
      "iteration 900 / 1500: loss 2.141380\n",
      "iteration 1000 / 1500: loss 2.131410\n",
      "iteration 1100 / 1500: loss 2.183227\n",
      "iteration 1200 / 1500: loss 2.173359\n",
      "iteration 1300 / 1500: loss 2.197923\n",
      "iteration 1400 / 1500: loss 2.127242\n",
      "lr 1.000000e-07 reg 1.000000e+03 train accuracy: 0.258327 val accuracy: 0.278000\n",
      "lr 1.000000e-07 reg 1.000000e+04 train accuracy: 0.352694 val accuracy: 0.364000\n",
      "lr 1.000000e-07 reg 2.500000e+04 train accuracy: 0.331367 val accuracy: 0.345000\n",
      "lr 1.000000e-07 reg 5.000000e+04 train accuracy: 0.309939 val accuracy: 0.318000\n",
      "lr 5.000000e-07 reg 1.000000e+03 train accuracy: 0.390429 val accuracy: 0.403000\n",
      "lr 5.000000e-07 reg 1.000000e+04 train accuracy: 0.350796 val accuracy: 0.368000\n",
      "lr 5.000000e-07 reg 2.500000e+04 train accuracy: 0.326939 val accuracy: 0.334000\n",
      "lr 5.000000e-07 reg 5.000000e+04 train accuracy: 0.302429 val accuracy: 0.310000\n",
      "best validation accuracy achieved during cross-validation: 0.403000\n"
     ]
    }
   ],
   "source": [
    "# Use the validation set to tune hyperparameters (regularization strength and\n",
    "# learning rate). You should experiment with different ranges for the learning\n",
    "# rates and regularization strengths; if you are careful you should be able to\n",
    "# get a classification accuracy of over 0.35 on the validation set.\n",
    "from cs231n.classifiers import Softmax\n",
    "results = {}\n",
    "best_val = -1\n",
    "best_softmax = None\n",
    "learning_rates = [1e-7, 5e-7]\n",
    "regularization_strengths = [1e3,1e4,2.5e4, 5e4]\n",
    "\n",
    "################################################################################\n",
    "# TODO:                                                                        #\n",
    "# Use the validation set to set the learning rate and regularization strength. #\n",
    "# This should be identical to the validation that you did for the SVM; save    #\n",
    "# the best trained softmax classifer in best_softmax.                          #\n",
    "################################################################################\n",
    "# *****START OF YOUR CODE (DO NOT DELETE/MODIFY THIS LINE)*****\n",
    "for lr in learning_rates:\n",
    "    for reg in regularization_strengths:\n",
    "        classfier = Softmax()\n",
    "        classfier.train(X_train, y_train, learning_rate=lr, reg=reg,num_iters=1500, verbose=True)\n",
    "        y_train_pred = classfier.predict(X_train)\n",
    "        y_val_pred = classfier.predict(X_val)\n",
    "        y_train_acc=np.sum(y_train_pred==y_train)/float(X_train.shape[0])\n",
    "        y_val_acc=np.sum(y_val_pred==y_val)/float(X_val.shape[0])\n",
    "        results.update({(lr,reg):(y_train_acc,y_val_acc)})\n",
    "        if y_val_acc>best_val:\n",
    "            best_val=y_val_acc\n",
    "            best_softmax=classfier\n",
    "pass\n",
    "\n",
    "# *****END OF YOUR CODE (DO NOT DELETE/MODIFY THIS LINE)*****\n",
    "    \n",
    "# Print out results.\n",
    "for lr, reg in sorted(results):\n",
    "    train_accuracy, val_accuracy = results[(lr, reg)]\n",
    "    print('lr %e reg %e train accuracy: %f val accuracy: %f' % (\n",
    "                lr, reg, train_accuracy, val_accuracy))\n",
    "    \n",
    "print('best validation accuracy achieved during cross-validation: %f' % best_val)"
   ]
  },
  {
   "cell_type": "code",
   "execution_count": 14,
   "metadata": {},
   "outputs": [
    {
     "name": "stdout",
     "output_type": "stream",
     "text": [
      "softmax on raw pixels final test set accuracy: 0.382000\n"
     ]
    }
   ],
   "source": [
    "# evaluate on test set\n",
    "# Evaluate the best softmax on test set\n",
    "y_test_pred = best_softmax.predict(X_test)\n",
    "test_accuracy = np.mean(y_test == y_test_pred)\n",
    "print('softmax on raw pixels final test set accuracy: %f' % (test_accuracy, ))"
   ]
  },
  {
   "cell_type": "markdown",
   "metadata": {
    "tags": [
     "pdf-inline"
    ]
   },
   "source": [
    "**Inline Question 2** - *True or False*\n",
    "\n",
    "Suppose the overall training loss is defined as the sum of the per-datapoint loss over all training examples. It is possible to add a new datapoint to a training set that would leave the SVM loss unchanged, but this is not the case with the Softmax classifier loss.\n",
    "\n",
    "$\\color{blue}{\\textit Your Answer:}$\n",
    "\n",
    "\n",
    "$\\color{blue}{\\textit Your Explanation:}$\n",
    "\n"
   ]
  },
  {
   "cell_type": "code",
   "execution_count": 15,
   "metadata": {},
   "outputs": [
    {
     "data": {
      "image/png": "[encoded data removed]",
      "text/plain": [
       "<Figure size 432x288 with 10 Axes>"
      ]
     },
     "metadata": {
      "needs_background": "light"
     },
     "output_type": "display_data"
    }
   ],
   "source": [
    "# Visualize the learned weights for each class\n",
    "w = best_softmax.W[:-1,:] # strip out the bias\n",
    "w = w.reshape(32, 32, 3, 10)\n",
    "\n",
    "w_min, w_max = np.min(w), np.max(w)\n",
    "\n",
    "classes = ['plane', 'car', 'bird', 'cat', 'deer', 'dog', 'frog', 'horse', 'ship', 'truck']\n",
    "for i in range(10):\n",
    "    plt.subplot(2, 5, i + 1)\n",
    "    \n",
    "    # Rescale the weights to be between 0 and 255\n",
    "    wimg = 255.0 * (w[:, :, :, i].squeeze() - w_min) / (w_max - w_min)\n",
    "    plt.imshow(wimg.astype('uint8'))\n",
    "    plt.axis('off')\n",
    "    plt.title(classes[i])"
   ]
  },
  {
   "cell_type": "code",
   "execution_count": null,
   "metadata": {},
   "outputs": [],
   "source": []
  }
 ],
 "metadata": {
  "kernelspec": {
   "display_name": "Python 3",
   "language": "python",
   "name": "python3"
  },
  "language_info": {
   "codemirror_mode": {
    "name": "ipython",
    "version": 3
   },
   "file_extension": ".py",
   "mimetype": "text/x-python",
   "name": "python",
   "nbconvert_exporter": "python",
   "pygments_lexer": "ipython3",
   "version": "3.7.4"
  }
 },
 "nbformat": 4,
 "nbformat_minor": 1
}
